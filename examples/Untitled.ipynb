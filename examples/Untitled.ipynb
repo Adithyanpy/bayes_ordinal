{
 "cells": [
  {
   "cell_type": "code",
   "execution_count": 2,
   "id": "55f06ca8-1287-4098-a733-b775297fe99a",
   "metadata": {},
   "outputs": [
    {
     "name": "stdout",
     "output_type": "stream",
     "text": [
      "/Users/adithyan/Documents/MScProject/bayes_ordinal/.venv/bin/python\n"
     ]
    }
   ],
   "source": [
    "import sys; print(sys.executable)\n",
    "from bayes_ordinal.models.cumulative import cumulative_model"
   ]
  },
  {
   "cell_type": "code",
   "execution_count": 3,
   "id": "8637672c-3207-4a36-9664-0861bd22c48d",
   "metadata": {},
   "outputs": [
    {
     "data": {
      "text/plain": [
       "[alpha, beta, y_obs]"
      ]
     },
     "execution_count": 3,
     "metadata": {},
     "output_type": "execute_result"
    }
   ],
   "source": [
    "import numpy as np\n",
    "import pymc as pm\n",
    "import pytensor.tensor as at\n",
    "\n",
    "# Test stub\n",
    "n, K = 20, 3\n",
    "X = np.random.normal(size=(n,2))\n",
    "y = np.random.randint(0, K, size=n)\n",
    "\n",
    "model = cumulative_model(y, X, K)\n",
    "model.basic_RVs"
   ]
  },
  {
   "cell_type": "code",
   "execution_count": 4,
   "id": "f3612bac-806a-42b3-9560-a4e71746f74e",
   "metadata": {},
   "outputs": [
    {
     "name": "stderr",
     "output_type": "stream",
     "text": [
      "Sampling: [alpha, beta, y_obs]\n"
     ]
    },
    {
     "ename": "TypeError",
     "evalue": "`kind` argument must be either `kde`, `cumulative`, or `scatter`",
     "output_type": "error",
     "traceback": [
      "\u001b[31m---------------------------------------------------------------------------\u001b[39m",
      "\u001b[31mTypeError\u001b[39m                                 Traceback (most recent call last)",
      "\u001b[36mCell\u001b[39m\u001b[36m \u001b[39m\u001b[32mIn[4]\u001b[39m\u001b[32m, line 7\u001b[39m\n\u001b[32m      4\u001b[39m model = cumulative_model(y, X, K)\n\u001b[32m      6\u001b[39m \u001b[38;5;66;03m# Run 100 prior draws and show the histogram\u001b[39;00m\n\u001b[32m----> \u001b[39m\u001b[32m7\u001b[39m idata_pp = \u001b[43mrun_prior_predictive\u001b[49m\u001b[43m(\u001b[49m\u001b[43mmodel\u001b[49m\u001b[43m,\u001b[49m\u001b[43m \u001b[49m\u001b[43mdraws\u001b[49m\u001b[43m=\u001b[49m\u001b[32;43m100\u001b[39;49m\u001b[43m,\u001b[49m\u001b[43m \u001b[49m\u001b[43mplot\u001b[49m\u001b[43m=\u001b[49m\u001b[38;5;28;43;01mTrue\u001b[39;49;00m\u001b[43m)\u001b[49m\n",
      "\u001b[36mFile \u001b[39m\u001b[32m~/Documents/MScProject/bayes_ordinal/bayes_ordinal/workflow/prior_predictive.py:34\u001b[39m, in \u001b[36mrun_prior_predictive\u001b[39m\u001b[34m(model, draws, plot)\u001b[39m\n\u001b[32m     32\u001b[39m y_pp = idata.prior_predictive[\u001b[33m\"\u001b[39m\u001b[33my_obs\u001b[39m\u001b[33m\"\u001b[39m]\n\u001b[32m     33\u001b[39m \u001b[38;5;66;03m# Plot the distribution of category counts\u001b[39;00m\n\u001b[32m---> \u001b[39m\u001b[32m34\u001b[39m \u001b[43maz\u001b[49m\u001b[43m.\u001b[49m\u001b[43mplot_ppc\u001b[49m\u001b[43m(\u001b[49m\u001b[43midata\u001b[49m\u001b[43m,\u001b[49m\u001b[43m \u001b[49m\u001b[43mvar_names\u001b[49m\u001b[43m=\u001b[49m\u001b[43m[\u001b[49m\u001b[33;43m\"\u001b[39;49m\u001b[33;43my_obs\u001b[39;49m\u001b[33;43m\"\u001b[39;49m\u001b[43m]\u001b[49m\u001b[43m,\u001b[49m\u001b[43m \u001b[49m\u001b[43mgroup\u001b[49m\u001b[43m=\u001b[49m\u001b[33;43m\"\u001b[39;49m\u001b[33;43mprior\u001b[39;49m\u001b[33;43m\"\u001b[39;49m\u001b[43m,\u001b[49m\u001b[43m \u001b[49m\u001b[43mkind\u001b[49m\u001b[43m=\u001b[49m\u001b[33;43m\"\u001b[39;49m\u001b[33;43mhist\u001b[39;49m\u001b[33;43m\"\u001b[39;49m\u001b[43m,\u001b[49m\u001b[43m \u001b[49m\u001b[43mshow\u001b[49m\u001b[43m=\u001b[49m\u001b[38;5;28;43;01mTrue\u001b[39;49;00m\u001b[43m)\u001b[49m\n\u001b[32m     35\u001b[39m plt.title(\u001b[33m\"\u001b[39m\u001b[33mPrior Predictive Distribution of y_obs\u001b[39m\u001b[33m\"\u001b[39m)\n\u001b[32m     36\u001b[39m plt.xlabel(\u001b[33m\"\u001b[39m\u001b[33mCategory\u001b[39m\u001b[33m\"\u001b[39m)\n",
      "\u001b[36mFile \u001b[39m\u001b[32m~/Documents/MScProject/bayes_ordinal/.venv/lib/python3.11/site-packages/arviz/plots/ppcplot.py:230\u001b[39m, in \u001b[36mplot_ppc\u001b[39m\u001b[34m(data, kind, alpha, mean, observed, observed_rug, color, colors, grid, figsize, textsize, data_pairs, var_names, filter_vars, coords, flatten, flatten_pp, num_pp_samples, random_seed, jitter, animated, animation_kwargs, legend, labeller, ax, backend, backend_kwargs, group, show)\u001b[39m\n\u001b[32m    227\u001b[39m         \u001b[38;5;28;01mraise\u001b[39;00m \u001b[38;5;167;01mTypeError\u001b[39;00m(\u001b[33mf\u001b[39m\u001b[33m'\u001b[39m\u001b[33m`data` argument must have the group \u001b[39m\u001b[33m\"\u001b[39m\u001b[38;5;132;01m{\u001b[39;00mgroups\u001b[38;5;132;01m}\u001b[39;00m\u001b[33m\"\u001b[39m\u001b[33m for ppcplot\u001b[39m\u001b[33m'\u001b[39m)\n\u001b[32m    229\u001b[39m \u001b[38;5;28;01mif\u001b[39;00m kind.lower() \u001b[38;5;129;01mnot\u001b[39;00m \u001b[38;5;129;01min\u001b[39;00m (\u001b[33m\"\u001b[39m\u001b[33mkde\u001b[39m\u001b[33m\"\u001b[39m, \u001b[33m\"\u001b[39m\u001b[33mcumulative\u001b[39m\u001b[33m\"\u001b[39m, \u001b[33m\"\u001b[39m\u001b[33mscatter\u001b[39m\u001b[33m\"\u001b[39m):\n\u001b[32m--> \u001b[39m\u001b[32m230\u001b[39m     \u001b[38;5;28;01mraise\u001b[39;00m \u001b[38;5;167;01mTypeError\u001b[39;00m(\u001b[33m\"\u001b[39m\u001b[33m`kind` argument must be either `kde`, `cumulative`, or `scatter`\u001b[39m\u001b[33m\"\u001b[39m)\n\u001b[32m    232\u001b[39m \u001b[38;5;28;01mif\u001b[39;00m colors \u001b[38;5;129;01mis\u001b[39;00m \u001b[38;5;28;01mNone\u001b[39;00m:\n\u001b[32m    233\u001b[39m     colors = [\u001b[33m\"\u001b[39m\u001b[33mC0\u001b[39m\u001b[33m\"\u001b[39m, \u001b[33m\"\u001b[39m\u001b[33mk\u001b[39m\u001b[33m\"\u001b[39m, \u001b[33m\"\u001b[39m\u001b[33mC1\u001b[39m\u001b[33m\"\u001b[39m]\n",
      "\u001b[31mTypeError\u001b[39m: `kind` argument must be either `kde`, `cumulative`, or `scatter`"
     ]
    }
   ],
   "source": [
    "from bayes_ordinal.workflow.prior_predictive import run_prior_predictive\n",
    "\n",
    "# Build the model as before\n",
    "model = cumulative_model(y, X, K)\n",
    "\n",
    "# Run 100 prior draws and show the histogram\n",
    "idata_pp = run_prior_predictive(model, draws=100, plot=True)\n"
   ]
  }
 ],
 "metadata": {
  "kernelspec": {
   "display_name": "Python (bayes_ordinal/.venv)",
   "language": "python",
   "name": "bayes_ordinal_venv"
  },
  "language_info": {
   "codemirror_mode": {
    "name": "ipython",
    "version": 3
   },
   "file_extension": ".py",
   "mimetype": "text/x-python",
   "name": "python",
   "nbconvert_exporter": "python",
   "pygments_lexer": "ipython3",
   "version": "3.11.13"
  }
 },
 "nbformat": 4,
 "nbformat_minor": 5
}
