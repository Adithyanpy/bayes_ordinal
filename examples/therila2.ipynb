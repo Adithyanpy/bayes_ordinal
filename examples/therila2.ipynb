{
 "cells": [
  {
   "cell_type": "code",
   "execution_count": 1,
   "id": "d8699dbb",
   "metadata": {},
   "outputs": [
    {
     "name": "stdout",
     "output_type": "stream",
     "text": [
      "TROLLEY PROBLEM ANALYSIS - PRIOR PREDICTIVE ONLY\n",
      "============================================================\n",
      "Using Our bayes_ordinal Package\n",
      "============================================================\n"
     ]
    }
   ],
   "source": [
    "#!/usr/bin/env python3\n",
    "\"\"\"\n",
    "Trolley Problem Analysis - Prior Predictive Only\n",
    "================================================\n",
    "Using Our bayes_ordinal Package\n",
    "================================================\n",
    "\"\"\"\n",
    "\n",
    "import warnings\n",
    "warnings.filterwarnings(\"ignore\")\n",
    "\n",
    "import numpy as np\n",
    "import pandas as pd\n",
    "import matplotlib.pyplot as plt\n",
    "import seaborn as sns\n",
    "import arviz as az\n",
    "\n",
    "# Import our bayes_ordinal package\n",
    "import sys\n",
    "sys.path.append('..')\n",
    "import bayes_ordinal as bo\n",
    "\n",
    "# Set plotting style\n",
    "plt.style.use('default')\n",
    "sns.set_palette(\"husl\")\n",
    "\n",
    "print(\"TROLLEY PROBLEM ANALYSIS - PRIOR PREDICTIVE ONLY\")\n",
    "print(\"=\" * 60)\n",
    "print(\"Using Our bayes_ordinal Package\")\n",
    "print(\"=\" * 60)"
   ]
  },
  {
   "cell_type": "code",
   "execution_count": 2,
   "id": "7263fe8e",
   "metadata": {},
   "outputs": [
    {
     "name": "stdout",
     "output_type": "stream",
     "text": [
      "1. Loading and Cleaning Data...\n",
      "==================================================\n",
      " Raw dataset shape: (9930, 12)\n",
      " Cleaned dataset shape: (9930, 12)\n",
      " Response range: 1 to 7\n",
      " Number of categories: 7\n",
      " Features: ['action', 'intention', 'contact']\n",
      "\n",
      "Response distribution:\n",
      "response\n",
      "1    1274\n",
      "2     909\n",
      "3    1071\n",
      "4    2323\n",
      "5    1462\n",
      "6    1445\n",
      "7    1446\n",
      "Name: count, dtype: int64\n",
      "\n",
      "2. Data Validation...\n",
      "==================================================\n",
      " Data validation completed\n",
      "\n",
      "3. Data Exploration...\n",
      "==================================================\n",
      "Feature Summary:\n",
      "  action: mean=0.433, std=0.496\n",
      "  intention: mean=0.467, std=0.499\n",
      "  contact: mean=0.200, std=0.400\n",
      "\n",
      "Feature Correlation Matrix:\n",
      "           action  intention  contact\n",
      "action      1.000     -0.144   -0.437\n",
      "intention  -0.144      1.000    0.033\n",
      "contact    -0.437      0.033    1.000\n",
      " Data exploration completed\n"
     ]
    }
   ],
   "source": [
    "print(\"1. Loading and Cleaning Data...\")\n",
    "print(\"=\" * 50)\n",
    "\n",
    "# Load the trolley dataset with correct separator\n",
    "data = pd.read_csv(\"../Dataset/Trolley.csv\", sep=';')\n",
    "print(f\" Raw dataset shape: {data.shape}\")\n",
    "\n",
    "# Clean the data\n",
    "data = data.dropna()\n",
    "print(f\" Cleaned dataset shape: {data.shape}\")\n",
    "\n",
    "# Check response variable\n",
    "print(f\" Response range: {data['response'].min()} to {data['response'].max()}\")\n",
    "print(f\" Number of categories: {data['response'].nunique()}\")\n",
    "print(f\" Features: {['action', 'intention', 'contact']}\")\n",
    "\n",
    "# Display response distribution\n",
    "print(\"\\nResponse distribution:\")\n",
    "print(data['response'].value_counts().sort_index())\n",
    "\n",
    "# Prepare features\n",
    "feature_cols = ['action', 'intention', 'contact']\n",
    "X = data[feature_cols].values\n",
    "y = data['response'].values\n",
    "\n",
    "# Convert to 0-based indexing for PyMC\n",
    "y_zero_based = y - 1\n",
    "print(\"\\n2. Data Validation...\")\n",
    "print(\"=\" * 50)\n",
    "\n",
    "# Validate data using our package\n",
    "validation_results = bo.validate_ordinal_data(y_zero_based, X)\n",
    "print(\" Data validation completed\")\n",
    "\n",
    "print(\"\\n3. Data Exploration...\")\n",
    "print(\"=\" * 50)\n",
    "\n",
    "# Feature summary\n",
    "print(\"Feature Summary:\")\n",
    "for i, col in enumerate(feature_cols):\n",
    "    print(f\"  {col}: mean={X[:, i].mean():.3f}, std={X[:, i].std():.3f}\")\n",
    "\n",
    "# Correlation matrix\n",
    "corr_matrix = pd.DataFrame(X, columns=feature_cols).corr()\n",
    "print(f\"\\nFeature Correlation Matrix:\")\n",
    "print(corr_matrix.round(3))\n",
    "\n",
    "print(\" Data exploration completed\")"
   ]
  },
  {
   "cell_type": "code",
   "execution_count": 3,
   "id": "c84e43ab",
   "metadata": {},
   "outputs": [
    {
     "name": "stdout",
     "output_type": "stream",
     "text": [
      "\n",
      "4. Prior Specification...\n",
      "==================================================\n",
      "Prior specifications (matching OC exactly):\n",
      "  beta: [0, 0.5] (coefficient mean=0, std=0.5 - like OC)\n",
      "  sigma: 1 (cutpoint prior std=1.0 - like OC)\n",
      "  mu: [-2.5 -1.5 -0.5  0.5  1.5  2.5] (cutpoint means=0 for all - like OC)\n"
     ]
    }
   ],
   "source": [
    "print(\"\\n4. Prior Specification...\")\n",
    "print(\"=\" * 50)\n",
    "\n",
    "# Define priors for the cumulative model\n",
    "priors = {\n",
    "    \"beta\": [0, 0.5],       # [mu, sigma] for beta\n",
    "    \"sigma\": 1,           #  Normal(0, 1) for cutpoints\n",
    "    \"mu\": np.array([-2.5, -1.5, -0.5, 0.5, 1.5, 2.5]),      # mu=0 for all cutpoints\n",
    "    \"constrained_uniform\": False\n",
    "}\n",
    "\n",
    "print(\"Prior specifications (matching OC exactly):\")\n",
    "print(f\"  beta: {priors['beta']} (coefficient mean=0, std=0.5 - like OC)\")\n",
    "print(f\"  sigma: {priors['sigma']} (cutpoint prior std=1.0 - like OC)\")\n",
    "print(f\"  mu: {priors['mu']} (cutpoint means=0 for all - like OC)\")"
   ]
  },
  {
   "cell_type": "code",
   "execution_count": 4,
   "id": "09ed755f",
   "metadata": {},
   "outputs": [
    {
     "name": "stdout",
     "output_type": "stream",
     "text": [
      "\n",
      "5. Building Model (Using Our Package)...\n",
      "==================================================\n",
      "Building logit model...\n",
      " Logit model built successfully\n",
      "\n",
      "Model Structure:\n",
      "Model Structure (PyMC Graphviz):\n"
     ]
    },
    {
     "data": {
      "image/svg+xml": [
       "<?xml version=\"1.0\" encoding=\"UTF-8\" standalone=\"no\"?>\n",
       "<!DOCTYPE svg PUBLIC \"-//W3C//DTD SVG 1.1//EN\"\n",
       " \"http://www.w3.org/Graphics/SVG/1.1/DTD/svg11.dtd\">\n",
       "<!-- Generated by graphviz version 2.50.0 (0)\n",
       " -->\n",
       "<!-- Title: trolley_logit Pages: 1 -->\n",
       "<svg width=\"548pt\" height=\"360pt\"\n",
       " viewBox=\"0.00 0.00 548.00 359.91\" xmlns=\"http://www.w3.org/2000/svg\" xmlns:xlink=\"http://www.w3.org/1999/xlink\">\n",
       "<g id=\"graph0\" class=\"graph\" transform=\"scale(1 1) rotate(0) translate(4 355.91)\">\n",
       "<title>trolley_logit</title>\n",
       "<polygon fill=\"white\" stroke=\"transparent\" points=\"-4,4 -4,-355.91 544,-355.91 544,4 -4,4\"/>\n",
       "<g id=\"clust1\" class=\"cluster\">\n",
       "<title>cluster3</title>\n",
       "<path fill=\"none\" stroke=\"black\" d=\"M20,-229.95C20,-229.95 172,-229.95 172,-229.95 178,-229.95 184,-235.95 184,-241.95 184,-241.95 184,-331.91 184,-331.91 184,-337.91 178,-343.91 172,-343.91 172,-343.91 20,-343.91 20,-343.91 14,-343.91 8,-337.91 8,-331.91 8,-331.91 8,-241.95 8,-241.95 8,-235.95 14,-229.95 20,-229.95\"/>\n",
       "<text text-anchor=\"middle\" x=\"172.5\" y=\"-237.75\" font-family=\"Times,serif\" font-size=\"14.00\">3</text>\n",
       "</g>\n",
       "<g id=\"clust2\" class=\"cluster\">\n",
       "<title>cluster9930 x 3</title>\n",
       "<path fill=\"none\" stroke=\"black\" d=\"M204,-240.93C204,-240.93 298,-240.93 298,-240.93 304,-240.93 310,-246.93 310,-252.93 310,-252.93 310,-320.93 310,-320.93 310,-326.93 304,-332.93 298,-332.93 298,-332.93 204,-332.93 204,-332.93 198,-332.93 192,-326.93 192,-320.93 192,-320.93 192,-252.93 192,-252.93 192,-246.93 198,-240.93 204,-240.93\"/>\n",
       "<text text-anchor=\"middle\" x=\"277.5\" y=\"-248.73\" font-family=\"Times,serif\" font-size=\"14.00\">9930 x 3</text>\n",
       "</g>\n",
       "<g id=\"clust3\" class=\"cluster\">\n",
       "<title>cluster6</title>\n",
       "<path fill=\"none\" stroke=\"black\" d=\"M330,-229.95C330,-229.95 520,-229.95 520,-229.95 526,-229.95 532,-235.95 532,-241.95 532,-241.95 532,-331.91 532,-331.91 532,-337.91 526,-343.91 520,-343.91 520,-343.91 330,-343.91 330,-343.91 324,-343.91 318,-337.91 318,-331.91 318,-331.91 318,-241.95 318,-241.95 318,-235.95 324,-229.95 330,-229.95\"/>\n",
       "<text text-anchor=\"middle\" x=\"520.5\" y=\"-237.75\" font-family=\"Times,serif\" font-size=\"14.00\">6</text>\n",
       "</g>\n",
       "<g id=\"clust4\" class=\"cluster\">\n",
       "<title>cluster9930 x 7</title>\n",
       "<path fill=\"none\" stroke=\"black\" d=\"M188,-129.95C188,-129.95 314,-129.95 314,-129.95 320,-129.95 326,-135.95 326,-141.95 326,-141.95 326,-209.95 326,-209.95 326,-215.95 320,-221.95 314,-221.95 314,-221.95 188,-221.95 188,-221.95 182,-221.95 176,-215.95 176,-209.95 176,-209.95 176,-141.95 176,-141.95 176,-135.95 182,-129.95 188,-129.95\"/>\n",
       "<text text-anchor=\"middle\" x=\"293.5\" y=\"-137.75\" font-family=\"Times,serif\" font-size=\"14.00\">9930 x 7</text>\n",
       "</g>\n",
       "<g id=\"clust5\" class=\"cluster\">\n",
       "<title>cluster9930</title>\n",
       "<path fill=\"none\" stroke=\"black\" d=\"M186,-8C186,-8 316,-8 316,-8 322,-8 328,-14 328,-20 328,-20 328,-109.95 328,-109.95 328,-115.95 322,-121.95 316,-121.95 316,-121.95 186,-121.95 186,-121.95 180,-121.95 174,-115.95 174,-109.95 174,-109.95 174,-20 174,-20 174,-14 180,-8 186,-8\"/>\n",
       "<text text-anchor=\"middle\" x=\"306\" y=\"-15.8\" font-family=\"Times,serif\" font-size=\"14.00\">9930</text>\n",
       "</g>\n",
       "<!-- trolley_logit&amp;&amp;beta -->\n",
       "<g id=\"node1\" class=\"node\">\n",
       "<title>trolley_logit&amp;&amp;beta</title>\n",
       "<ellipse fill=\"none\" stroke=\"black\" cx=\"96\" cy=\"-298.43\" rx=\"79.81\" ry=\"37.45\"/>\n",
       "<text text-anchor=\"middle\" x=\"96\" y=\"-309.73\" font-family=\"Times,serif\" font-size=\"14.00\">trolley_logit::beta</text>\n",
       "<text text-anchor=\"middle\" x=\"96\" y=\"-294.73\" font-family=\"Times,serif\" font-size=\"14.00\">~</text>\n",
       "<text text-anchor=\"middle\" x=\"96\" y=\"-279.73\" font-family=\"Times,serif\" font-size=\"14.00\">Normal</text>\n",
       "</g>\n",
       "<!-- trolley_logit&amp;&amp;y_probs -->\n",
       "<g id=\"node4\" class=\"node\">\n",
       "<title>trolley_logit&amp;&amp;y_probs</title>\n",
       "<polygon fill=\"none\" stroke=\"black\" points=\"318,-213.95 184,-213.95 184,-160.95 318,-160.95 318,-213.95\"/>\n",
       "<text text-anchor=\"middle\" x=\"251\" y=\"-198.75\" font-family=\"Times,serif\" font-size=\"14.00\">trolley_logit::y_probs</text>\n",
       "<text text-anchor=\"middle\" x=\"251\" y=\"-183.75\" font-family=\"Times,serif\" font-size=\"14.00\">~</text>\n",
       "<text text-anchor=\"middle\" x=\"251\" y=\"-168.75\" font-family=\"Times,serif\" font-size=\"14.00\">Deterministic</text>\n",
       "</g>\n",
       "<!-- trolley_logit&amp;&amp;beta&#45;&gt;trolley_logit&amp;&amp;y_probs -->\n",
       "<g id=\"edge2\" class=\"edge\">\n",
       "<title>trolley_logit&amp;&amp;beta&#45;&gt;trolley_logit&amp;&amp;y_probs</title>\n",
       "<path fill=\"none\" stroke=\"black\" d=\"M137.82,-266.08C153.44,-254.54 171.41,-241.49 188,-229.95 192.82,-226.6 197.89,-223.15 202.96,-219.73\"/>\n",
       "<polygon fill=\"black\" stroke=\"black\" points=\"205.1,-222.52 211.48,-214.05 201.22,-216.69 205.1,-222.52\"/>\n",
       "</g>\n",
       "<!-- trolley_logit&amp;&amp;X -->\n",
       "<g id=\"node2\" class=\"node\">\n",
       "<title>trolley_logit&amp;&amp;X</title>\n",
       "<path fill=\"lightgrey\" stroke=\"black\" d=\"M289.5,-324.93C289.5,-324.93 212.5,-324.93 212.5,-324.93 206.5,-324.93 200.5,-318.93 200.5,-312.93 200.5,-312.93 200.5,-283.93 200.5,-283.93 200.5,-277.93 206.5,-271.93 212.5,-271.93 212.5,-271.93 289.5,-271.93 289.5,-271.93 295.5,-271.93 301.5,-277.93 301.5,-283.93 301.5,-283.93 301.5,-312.93 301.5,-312.93 301.5,-318.93 295.5,-324.93 289.5,-324.93\"/>\n",
       "<text text-anchor=\"middle\" x=\"251\" y=\"-309.73\" font-family=\"Times,serif\" font-size=\"14.00\">trolley_logit::X</text>\n",
       "<text text-anchor=\"middle\" x=\"251\" y=\"-294.73\" font-family=\"Times,serif\" font-size=\"14.00\">~</text>\n",
       "<text text-anchor=\"middle\" x=\"251\" y=\"-279.73\" font-family=\"Times,serif\" font-size=\"14.00\">Data</text>\n",
       "</g>\n",
       "<!-- trolley_logit&amp;&amp;X&#45;&gt;trolley_logit&amp;&amp;y_probs -->\n",
       "<g id=\"edge1\" class=\"edge\">\n",
       "<title>trolley_logit&amp;&amp;X&#45;&gt;trolley_logit&amp;&amp;y_probs</title>\n",
       "<path fill=\"none\" stroke=\"black\" d=\"M251,-271.88C251,-257.77 251,-240.02 251,-224.52\"/>\n",
       "<polygon fill=\"black\" stroke=\"black\" points=\"254.5,-224.22 251,-214.22 247.5,-224.22 254.5,-224.22\"/>\n",
       "</g>\n",
       "<!-- trolley_logit&amp;&amp;cutpoints -->\n",
       "<g id=\"node3\" class=\"node\">\n",
       "<title>trolley_logit&amp;&amp;cutpoints</title>\n",
       "<ellipse fill=\"none\" stroke=\"black\" cx=\"425\" cy=\"-298.43\" rx=\"98.99\" ry=\"37.45\"/>\n",
       "<text text-anchor=\"middle\" x=\"425\" y=\"-309.73\" font-family=\"Times,serif\" font-size=\"14.00\">trolley_logit::cutpoints</text>\n",
       "<text text-anchor=\"middle\" x=\"425\" y=\"-294.73\" font-family=\"Times,serif\" font-size=\"14.00\">~</text>\n",
       "<text text-anchor=\"middle\" x=\"425\" y=\"-279.73\" font-family=\"Times,serif\" font-size=\"14.00\">Normal</text>\n",
       "</g>\n",
       "<!-- trolley_logit&amp;&amp;cutpoints&#45;&gt;trolley_logit&amp;&amp;y_probs -->\n",
       "<g id=\"edge3\" class=\"edge\">\n",
       "<title>trolley_logit&amp;&amp;cutpoints&#45;&gt;trolley_logit&amp;&amp;y_probs</title>\n",
       "<path fill=\"none\" stroke=\"black\" d=\"M374.67,-265.91C351.35,-251.31 323.73,-234.01 300.52,-219.47\"/>\n",
       "<polygon fill=\"black\" stroke=\"black\" points=\"302.19,-216.38 291.85,-214.04 298.47,-222.31 302.19,-216.38\"/>\n",
       "</g>\n",
       "<!-- trolley_logit&amp;&amp;y -->\n",
       "<g id=\"node5\" class=\"node\">\n",
       "<title>trolley_logit&amp;&amp;y</title>\n",
       "<ellipse fill=\"lightgrey\" stroke=\"black\" cx=\"251\" cy=\"-76.48\" rx=\"69.09\" ry=\"37.45\"/>\n",
       "<text text-anchor=\"middle\" x=\"251\" y=\"-87.78\" font-family=\"Times,serif\" font-size=\"14.00\">trolley_logit::y</text>\n",
       "<text text-anchor=\"middle\" x=\"251\" y=\"-72.78\" font-family=\"Times,serif\" font-size=\"14.00\">~</text>\n",
       "<text text-anchor=\"middle\" x=\"251\" y=\"-57.78\" font-family=\"Times,serif\" font-size=\"14.00\">Categorical</text>\n",
       "</g>\n",
       "<!-- trolley_logit&amp;&amp;y_probs&#45;&gt;trolley_logit&amp;&amp;y -->\n",
       "<g id=\"edge4\" class=\"edge\">\n",
       "<title>trolley_logit&amp;&amp;y_probs&#45;&gt;trolley_logit&amp;&amp;y</title>\n",
       "<path fill=\"none\" stroke=\"black\" d=\"M251,-160.9C251,-149.99 251,-136.9 251,-124.36\"/>\n",
       "<polygon fill=\"black\" stroke=\"black\" points=\"254.5,-124.01 251,-114.01 247.5,-124.01 254.5,-124.01\"/>\n",
       "</g>\n",
       "</g>\n",
       "</svg>\n"
      ],
      "text/plain": [
       "<graphviz.graphs.Digraph at 0x16b646d90>"
      ]
     },
     "metadata": {},
     "output_type": "display_data"
    },
    {
     "name": "stdout",
     "output_type": "stream",
     "text": [
      " Graphviz visualization displayed successfully!\n"
     ]
    }
   ],
   "source": [
    "print(\"\\n5. Building Model (Using Our Package)...\")\n",
    "print(\"=\" * 50)\n",
    "\n",
    "print(\"Building logit model...\")\n",
    "\n",
    "# Build the logit model using our package\n",
    "logit_model = bo.cumulative_model(\n",
    "    y=y_zero_based,\n",
    "    X=X,\n",
    "    K=len(np.unique(y_zero_based)),  # Number of unique categories\n",
    "    link=\"logit\",\n",
    "    priors=priors,\n",
    "    model_name=\"trolley_logit\",\n",
    "    prior_type=\"fixed_sigma\",\n",
    "    feature_names=feature_cols\n",
    ")\n",
    "\n",
    "print(\" Logit model built successfully\")\n",
    "\n",
    "# Display model structure\n",
    "print(\"\\nModel Structure:\")\n",
    "print(\"Model Structure (PyMC Graphviz):\")\n",
    "\n",
    "# Import pymc and create the model structure\n",
    "import pymc as pm\n",
    "\n",
    "# Create the graphviz visualization\n",
    "model_graph = pm.model_to_graphviz(logit_model)\n",
    "\n",
    "display(model_graph)\n",
    "print(\" Graphviz visualization displayed successfully!\")"
   ]
  },
  {
   "cell_type": "code",
   "execution_count": 5,
   "id": "0b7d3358",
   "metadata": {},
   "outputs": [
    {
     "name": "stderr",
     "output_type": "stream",
     "text": [
      "Initializing NUTS using jitter+adapt_diag...\n"
     ]
    },
    {
     "name": "stdout",
     "output_type": "stream",
     "text": [
      "\n",
      "8. Model Fitting...\n",
      "==================================================\n",
      "Fitting logit model...\n"
     ]
    },
    {
     "name": "stderr",
     "output_type": "stream",
     "text": [
      "Multiprocess sampling (4 chains in 4 jobs)\n",
      "NUTS: [trolley_logit::beta, trolley_logit::cutpoints]\n"
     ]
    },
    {
     "data": {
      "text/html": [
       "<pre style=\"white-space:pre;overflow-x:auto;line-height:normal;font-family:Menlo,'DejaVu Sans Mono',consolas,'Courier New',monospace\"></pre>\n"
      ],
      "text/plain": []
     },
     "metadata": {},
     "output_type": "display_data"
    },
    {
     "name": "stderr",
     "output_type": "stream",
     "text": [
      "Sampling 4 chains for 1_000 tune and 1_500 draw iterations (4_000 + 6_000 draws total) took 106 seconds.\n",
      "Sampling: [trolley_logit::y]\n"
     ]
    },
    {
     "name": "stdout",
     "output_type": "stream",
     "text": [
      " Adding posterior predictive samples...\n"
     ]
    },
    {
     "data": {
      "text/html": [
       "<pre style=\"white-space:pre;overflow-x:auto;line-height:normal;font-family:Menlo,'DejaVu Sans Mono',consolas,'Courier New',monospace\"></pre>\n"
      ],
      "text/plain": []
     },
     "metadata": {},
     "output_type": "display_data"
    },
    {
     "name": "stdout",
     "output_type": "stream",
     "text": [
      " Posterior predictive samples added\n",
      " Logit model fitting completed\n",
      " InferenceData shape: (4, 1500, 3)\n"
     ]
    }
   ],
   "source": [
    "print(\"\\n8. Model Fitting...\")\n",
    "print(\"=\" * 50)\n",
    "\n",
    "print(\"Fitting logit model...\")\n",
    "\n",
    "# Fit the model using our package - now with progress tracking!\n",
    "idata_logit = bo.fit_ordinal_model(\n",
    "    model=logit_model,\n",
    "    chains=4,\n",
    "    draws=1500,\n",
    "    tune=1000,\n",
    "    random_seed=42\n",
    "    # progressbar=True and compute_convergence_checks=True are now default!\n",
    ")\n",
    "\n",
    "print(\" Logit model fitting completed\")\n",
    "print(f\" InferenceData shape: {idata_logit.posterior['trolley_logit::beta'].shape}\")"
   ]
  },
  {
   "cell_type": "code",
   "execution_count": 6,
   "id": "f18e47cc",
   "metadata": {},
   "outputs": [
    {
     "name": "stdout",
     "output_type": "stream",
     "text": [
      "\n",
      "5b. Building Probit Model...\n",
      "==================================================\n",
      "Building probit model...\n",
      " Probit model built successfully\n",
      " Note: Prior scales automatically adjusted for probit (×0.625)\n",
      "\n",
      "Probit Model Structure:\n",
      "Model Structure (PyMC Graphviz):\n"
     ]
    },
    {
     "data": {
      "image/svg+xml": [
       "<?xml version=\"1.0\" encoding=\"UTF-8\" standalone=\"no\"?>\n",
       "<!DOCTYPE svg PUBLIC \"-//W3C//DTD SVG 1.1//EN\"\n",
       " \"http://www.w3.org/Graphics/SVG/1.1/DTD/svg11.dtd\">\n",
       "<!-- Generated by graphviz version 2.50.0 (0)\n",
       " -->\n",
       "<!-- Title: trolley_probit Pages: 1 -->\n",
       "<svg width=\"578pt\" height=\"360pt\"\n",
       " viewBox=\"0.00 0.00 578.00 359.91\" xmlns=\"http://www.w3.org/2000/svg\" xmlns:xlink=\"http://www.w3.org/1999/xlink\">\n",
       "<g id=\"graph0\" class=\"graph\" transform=\"scale(1 1) rotate(0) translate(4 355.91)\">\n",
       "<title>trolley_probit</title>\n",
       "<polygon fill=\"white\" stroke=\"transparent\" points=\"-4,4 -4,-355.91 574,-355.91 574,4 -4,4\"/>\n",
       "<g id=\"clust1\" class=\"cluster\">\n",
       "<title>cluster3</title>\n",
       "<path fill=\"none\" stroke=\"black\" d=\"M20,-229.95C20,-229.95 184,-229.95 184,-229.95 190,-229.95 196,-235.95 196,-241.95 196,-241.95 196,-331.91 196,-331.91 196,-337.91 190,-343.91 184,-343.91 184,-343.91 20,-343.91 20,-343.91 14,-343.91 8,-337.91 8,-331.91 8,-331.91 8,-241.95 8,-241.95 8,-235.95 14,-229.95 20,-229.95\"/>\n",
       "<text text-anchor=\"middle\" x=\"184.5\" y=\"-237.75\" font-family=\"Times,serif\" font-size=\"14.00\">3</text>\n",
       "</g>\n",
       "<g id=\"clust2\" class=\"cluster\">\n",
       "<title>cluster9930 x 3</title>\n",
       "<path fill=\"none\" stroke=\"black\" d=\"M216,-240.93C216,-240.93 316,-240.93 316,-240.93 322,-240.93 328,-246.93 328,-252.93 328,-252.93 328,-320.93 328,-320.93 328,-326.93 322,-332.93 316,-332.93 316,-332.93 216,-332.93 216,-332.93 210,-332.93 204,-326.93 204,-320.93 204,-320.93 204,-252.93 204,-252.93 204,-246.93 210,-240.93 216,-240.93\"/>\n",
       "<text text-anchor=\"middle\" x=\"295.5\" y=\"-248.73\" font-family=\"Times,serif\" font-size=\"14.00\">9930 x 3</text>\n",
       "</g>\n",
       "<g id=\"clust3\" class=\"cluster\">\n",
       "<title>cluster6</title>\n",
       "<path fill=\"none\" stroke=\"black\" d=\"M348,-229.95C348,-229.95 550,-229.95 550,-229.95 556,-229.95 562,-235.95 562,-241.95 562,-241.95 562,-331.91 562,-331.91 562,-337.91 556,-343.91 550,-343.91 550,-343.91 348,-343.91 348,-343.91 342,-343.91 336,-337.91 336,-331.91 336,-331.91 336,-241.95 336,-241.95 336,-235.95 342,-229.95 348,-229.95\"/>\n",
       "<text text-anchor=\"middle\" x=\"550.5\" y=\"-237.75\" font-family=\"Times,serif\" font-size=\"14.00\">6</text>\n",
       "</g>\n",
       "<g id=\"clust4\" class=\"cluster\">\n",
       "<title>cluster9930 x 7</title>\n",
       "<path fill=\"none\" stroke=\"black\" d=\"M199,-129.95C199,-129.95 333,-129.95 333,-129.95 339,-129.95 345,-135.95 345,-141.95 345,-141.95 345,-209.95 345,-209.95 345,-215.95 339,-221.95 333,-221.95 333,-221.95 199,-221.95 199,-221.95 193,-221.95 187,-215.95 187,-209.95 187,-209.95 187,-141.95 187,-141.95 187,-135.95 193,-129.95 199,-129.95\"/>\n",
       "<text text-anchor=\"middle\" x=\"312.5\" y=\"-137.75\" font-family=\"Times,serif\" font-size=\"14.00\">9930 x 7</text>\n",
       "</g>\n",
       "<g id=\"clust5\" class=\"cluster\">\n",
       "<title>cluster9930</title>\n",
       "<path fill=\"none\" stroke=\"black\" d=\"M196,-8C196,-8 336,-8 336,-8 342,-8 348,-14 348,-20 348,-20 348,-109.95 348,-109.95 348,-115.95 342,-121.95 336,-121.95 336,-121.95 196,-121.95 196,-121.95 190,-121.95 184,-115.95 184,-109.95 184,-109.95 184,-20 184,-20 184,-14 190,-8 196,-8\"/>\n",
       "<text text-anchor=\"middle\" x=\"326\" y=\"-15.8\" font-family=\"Times,serif\" font-size=\"14.00\">9930</text>\n",
       "</g>\n",
       "<!-- trolley_probit&amp;&amp;beta -->\n",
       "<g id=\"node1\" class=\"node\">\n",
       "<title>trolley_probit&amp;&amp;beta</title>\n",
       "<ellipse fill=\"none\" stroke=\"black\" cx=\"102\" cy=\"-298.43\" rx=\"85.62\" ry=\"37.45\"/>\n",
       "<text text-anchor=\"middle\" x=\"102\" y=\"-309.73\" font-family=\"Times,serif\" font-size=\"14.00\">trolley_probit::beta</text>\n",
       "<text text-anchor=\"middle\" x=\"102\" y=\"-294.73\" font-family=\"Times,serif\" font-size=\"14.00\">~</text>\n",
       "<text text-anchor=\"middle\" x=\"102\" y=\"-279.73\" font-family=\"Times,serif\" font-size=\"14.00\">Normal</text>\n",
       "</g>\n",
       "<!-- trolley_probit&amp;&amp;y_probs -->\n",
       "<g id=\"node4\" class=\"node\">\n",
       "<title>trolley_probit&amp;&amp;y_probs</title>\n",
       "<polygon fill=\"none\" stroke=\"black\" points=\"337,-213.95 195,-213.95 195,-160.95 337,-160.95 337,-213.95\"/>\n",
       "<text text-anchor=\"middle\" x=\"266\" y=\"-198.75\" font-family=\"Times,serif\" font-size=\"14.00\">trolley_probit::y_probs</text>\n",
       "<text text-anchor=\"middle\" x=\"266\" y=\"-183.75\" font-family=\"Times,serif\" font-size=\"14.00\">~</text>\n",
       "<text text-anchor=\"middle\" x=\"266\" y=\"-168.75\" font-family=\"Times,serif\" font-size=\"14.00\">Deterministic</text>\n",
       "</g>\n",
       "<!-- trolley_probit&amp;&amp;beta&#45;&gt;trolley_probit&amp;&amp;y_probs -->\n",
       "<g id=\"edge2\" class=\"edge\">\n",
       "<title>trolley_probit&amp;&amp;beta&#45;&gt;trolley_probit&amp;&amp;y_probs</title>\n",
       "<path fill=\"none\" stroke=\"black\" d=\"M146.62,-266.13C163.27,-254.6 182.4,-241.54 200,-229.95 205.19,-226.53 210.65,-223.01 216.1,-219.52\"/>\n",
       "<polygon fill=\"black\" stroke=\"black\" points=\"218.08,-222.41 224.64,-214.09 214.32,-216.5 218.08,-222.41\"/>\n",
       "</g>\n",
       "<!-- trolley_probit&amp;&amp;X -->\n",
       "<g id=\"node2\" class=\"node\">\n",
       "<title>trolley_probit&amp;&amp;X</title>\n",
       "<path fill=\"lightgrey\" stroke=\"black\" d=\"M308,-324.93C308,-324.93 224,-324.93 224,-324.93 218,-324.93 212,-318.93 212,-312.93 212,-312.93 212,-283.93 212,-283.93 212,-277.93 218,-271.93 224,-271.93 224,-271.93 308,-271.93 308,-271.93 314,-271.93 320,-277.93 320,-283.93 320,-283.93 320,-312.93 320,-312.93 320,-318.93 314,-324.93 308,-324.93\"/>\n",
       "<text text-anchor=\"middle\" x=\"266\" y=\"-309.73\" font-family=\"Times,serif\" font-size=\"14.00\">trolley_probit::X</text>\n",
       "<text text-anchor=\"middle\" x=\"266\" y=\"-294.73\" font-family=\"Times,serif\" font-size=\"14.00\">~</text>\n",
       "<text text-anchor=\"middle\" x=\"266\" y=\"-279.73\" font-family=\"Times,serif\" font-size=\"14.00\">Data</text>\n",
       "</g>\n",
       "<!-- trolley_probit&amp;&amp;X&#45;&gt;trolley_probit&amp;&amp;y_probs -->\n",
       "<g id=\"edge1\" class=\"edge\">\n",
       "<title>trolley_probit&amp;&amp;X&#45;&gt;trolley_probit&amp;&amp;y_probs</title>\n",
       "<path fill=\"none\" stroke=\"black\" d=\"M266,-271.88C266,-257.77 266,-240.02 266,-224.52\"/>\n",
       "<polygon fill=\"black\" stroke=\"black\" points=\"269.5,-224.22 266,-214.22 262.5,-224.22 269.5,-224.22\"/>\n",
       "</g>\n",
       "<!-- trolley_probit&amp;&amp;cutpoints -->\n",
       "<g id=\"node3\" class=\"node\">\n",
       "<title>trolley_probit&amp;&amp;cutpoints</title>\n",
       "<ellipse fill=\"none\" stroke=\"black\" cx=\"449\" cy=\"-298.43\" rx=\"104.8\" ry=\"37.45\"/>\n",
       "<text text-anchor=\"middle\" x=\"449\" y=\"-309.73\" font-family=\"Times,serif\" font-size=\"14.00\">trolley_probit::cutpoints</text>\n",
       "<text text-anchor=\"middle\" x=\"449\" y=\"-294.73\" font-family=\"Times,serif\" font-size=\"14.00\">~</text>\n",
       "<text text-anchor=\"middle\" x=\"449\" y=\"-279.73\" font-family=\"Times,serif\" font-size=\"14.00\">Normal</text>\n",
       "</g>\n",
       "<!-- trolley_probit&amp;&amp;cutpoints&#45;&gt;trolley_probit&amp;&amp;y_probs -->\n",
       "<g id=\"edge3\" class=\"edge\">\n",
       "<title>trolley_probit&amp;&amp;cutpoints&#45;&gt;trolley_probit&amp;&amp;y_probs</title>\n",
       "<path fill=\"none\" stroke=\"black\" d=\"M396.07,-265.91C371.44,-251.24 342.24,-233.85 317.76,-219.27\"/>\n",
       "<polygon fill=\"black\" stroke=\"black\" points=\"319.35,-216.15 308.97,-214.04 315.77,-222.16 319.35,-216.15\"/>\n",
       "</g>\n",
       "<!-- trolley_probit&amp;&amp;y -->\n",
       "<g id=\"node5\" class=\"node\">\n",
       "<title>trolley_probit&amp;&amp;y</title>\n",
       "<ellipse fill=\"lightgrey\" stroke=\"black\" cx=\"266\" cy=\"-76.48\" rx=\"74.49\" ry=\"37.45\"/>\n",
       "<text text-anchor=\"middle\" x=\"266\" y=\"-87.78\" font-family=\"Times,serif\" font-size=\"14.00\">trolley_probit::y</text>\n",
       "<text text-anchor=\"middle\" x=\"266\" y=\"-72.78\" font-family=\"Times,serif\" font-size=\"14.00\">~</text>\n",
       "<text text-anchor=\"middle\" x=\"266\" y=\"-57.78\" font-family=\"Times,serif\" font-size=\"14.00\">Categorical</text>\n",
       "</g>\n",
       "<!-- trolley_probit&amp;&amp;y_probs&#45;&gt;trolley_probit&amp;&amp;y -->\n",
       "<g id=\"edge4\" class=\"edge\">\n",
       "<title>trolley_probit&amp;&amp;y_probs&#45;&gt;trolley_probit&amp;&amp;y</title>\n",
       "<path fill=\"none\" stroke=\"black\" d=\"M266,-160.9C266,-149.99 266,-136.9 266,-124.36\"/>\n",
       "<polygon fill=\"black\" stroke=\"black\" points=\"269.5,-124.01 266,-114.01 262.5,-124.01 269.5,-124.01\"/>\n",
       "</g>\n",
       "</g>\n",
       "</svg>\n"
      ],
      "text/plain": [
       "<graphviz.graphs.Digraph at 0x17596d490>"
      ]
     },
     "metadata": {},
     "output_type": "display_data"
    },
    {
     "name": "stdout",
     "output_type": "stream",
     "text": [
      " Probit model Graphviz visualization displayed successfully!\n"
     ]
    }
   ],
   "source": [
    "print(\"\\n5b. Building Probit Model...\")\n",
    "print(\"=\" * 50)\n",
    "\n",
    "print(\"Building probit model...\")\n",
    "\n",
    "# Build the probit model using our package\n",
    "# Note: The same priors will be automatically adjusted for probit scale\n",
    "probit_model = bo.cumulative_model(\n",
    "    y=y_zero_based,\n",
    "    X=X,\n",
    "    K=len(np.unique(y_zero_based)),  # Number of unique categories\n",
    "    link=\"probit\",  # Changed to probit\n",
    "    priors=priors,  # Same priors - will be automatically adjusted\n",
    "    model_name=\"trolley_probit\",\n",
    "    prior_type=\"fixed_sigma\",\n",
    "    feature_names=feature_cols\n",
    ")\n",
    "\n",
    "print(\" Probit model built successfully\")\n",
    "print(\" Note: Prior scales automatically adjusted for probit (×0.625)\")\n",
    "\n",
    "# Display model structure\n",
    "print(\"\\nProbit Model Structure:\")\n",
    "print(\"Model Structure (PyMC Graphviz):\")\n",
    "\n",
    "# Create the graphviz visualization for probit model\n",
    "model_graph_probit = pm.model_to_graphviz(probit_model)\n",
    "display(model_graph_probit)\n",
    "print(\" Probit model Graphviz visualization displayed successfully!\")"
   ]
  },
  {
   "cell_type": "code",
   "execution_count": 7,
   "id": "1be8003a",
   "metadata": {},
   "outputs": [
    {
     "name": "stdout",
     "output_type": "stream",
     "text": [
      "\n",
      "8b. Fitting Probit Model...\n",
      "==================================================\n",
      "Fitting probit model...\n"
     ]
    },
    {
     "name": "stderr",
     "output_type": "stream",
     "text": [
      "Initializing NUTS using jitter+adapt_diag...\n",
      "Multiprocess sampling (4 chains in 4 jobs)\n",
      "NUTS: [trolley_probit::beta, trolley_probit::cutpoints]\n"
     ]
    },
    {
     "data": {
      "text/html": [
       "<pre style=\"white-space:pre;overflow-x:auto;line-height:normal;font-family:Menlo,'DejaVu Sans Mono',consolas,'Courier New',monospace\"></pre>\n"
      ],
      "text/plain": []
     },
     "metadata": {},
     "output_type": "display_data"
    },
    {
     "name": "stderr",
     "output_type": "stream",
     "text": [
      "Sampling 4 chains for 1_000 tune and 1_500 draw iterations (4_000 + 6_000 draws total) took 625 seconds.\n",
      "Sampling: [trolley_probit::y]\n"
     ]
    },
    {
     "name": "stdout",
     "output_type": "stream",
     "text": [
      " Adding posterior predictive samples...\n"
     ]
    },
    {
     "data": {
      "text/html": [
       "<pre style=\"white-space:pre;overflow-x:auto;line-height:normal;font-family:Menlo,'DejaVu Sans Mono',consolas,'Courier New',monospace\"></pre>\n"
      ],
      "text/plain": []
     },
     "metadata": {},
     "output_type": "display_data"
    },
    {
     "name": "stdout",
     "output_type": "stream",
     "text": [
      " Posterior predictive samples added\n",
      " Probit model fitting completed\n",
      " InferenceData shape: (4, 1500, 3)\n"
     ]
    }
   ],
   "source": [
    "print(\"\\n8b. Fitting Probit Model...\")\n",
    "print(\"=\" * 50)\n",
    "\n",
    "print(\"Fitting probit model...\")\n",
    "\n",
    "# Fit the probit model using our package\n",
    "idata_probit = bo.fit_ordinal_model(\n",
    "    model=probit_model,\n",
    "    chains=4,\n",
    "    draws=1500,\n",
    "    tune=1000,\n",
    "    random_seed=42\n",
    ")\n",
    "\n",
    "print(\" Probit model fitting completed\")\n",
    "print(f\" InferenceData shape: {idata_probit.posterior['trolley_probit::beta'].shape}\")"
   ]
  },
  {
   "cell_type": "code",
   "execution_count": 8,
   "id": "d4e8113f",
   "metadata": {},
   "outputs": [
    {
     "name": "stdout",
     "output_type": "stream",
     "text": [
      " Setting up model comparison...\n",
      " Models ready for comparison: ['Logit', 'Probit']\n",
      " InferenceData ready: ['Logit', 'Probit']\n"
     ]
    }
   ],
   "source": [
    "# Cell: Model Comparison Setup\n",
    "print(\" Setting up model comparison...\")\n",
    "\n",
    "# Create dictionaries for easy access\n",
    "models = {\n",
    "    'Logit': logit_model,\n",
    "    'Probit': probit_model\n",
    "}\n",
    "\n",
    "idatas = {\n",
    "    'Logit': idata_logit,\n",
    "    'Probit': idata_probit\n",
    "}\n",
    "\n",
    "print(f\" Models ready for comparison: {list(models.keys())}\")\n",
    "print(f\" InferenceData ready: {list(idatas.keys())}\")"
   ]
  },
  {
   "cell_type": "code",
   "execution_count": 9,
   "id": "4a53b3d8",
   "metadata": {},
   "outputs": [
    {
     "name": "stdout",
     "output_type": "stream",
     "text": [
      " Advanced Model Comparison with Full Results...\n",
      " Log likelihood found for Logit\n",
      "  Location: root level\n",
      " LOO computed successfully: -18545.17 ± 37.83\n",
      " Log likelihood found for Probit\n",
      "  Location: root level\n",
      " LOO computed successfully: -18542.23 ± 38.10\n",
      " Advanced model comparison completed using ArviZ stacking\n",
      " Stacking weights computed successfully\n",
      " Bayesian Model Averaging weights computed\n",
      " Advanced comparison completed!\n"
     ]
    }
   ],
   "source": [
    "# Cell: Advanced Model Comparison with Full Results\n",
    "print(\" Advanced Model Comparison with Full Results...\")\n",
    "\n",
    "# Import the advanced comparison function\n",
    "from bayes_ordinal.workflow.cross_validation import compare_models_stacking\n",
    "\n",
    "# Run advanced comparison (this will compute everything)\n",
    "advanced_results = compare_models_stacking(\n",
    "    models=models,\n",
    "    idatas=idatas,\n",
    "    ic=\"loo\",\n",
    "    include_stacking=True,\n",
    "    include_bma=True\n",
    ")\n",
    "\n",
    "print(\" Advanced comparison completed!\")"
   ]
  },
  {
   "cell_type": "code",
   "execution_count": 10,
   "id": "0c4ddaba",
   "metadata": {},
   "outputs": [
    {
     "name": "stdout",
     "output_type": "stream",
     "text": [
      " Displaying Comprehensive Results...\n",
      "\n",
      "================================================================================\n",
      "COMPREHENSIVE MODEL COMPARISON RESULTS\n",
      "================================================================================\n",
      "\n",
      " BASIC COMPARISON:\n",
      "        rank   elpd_loo  p_loo  elpd_diff  weight      se   dse  warning  \\\n",
      "Probit     0  37084.464  9.063       0.00   0.713  76.198  0.00    False   \n",
      "Logit      1  37090.333  9.126       5.87   0.287  75.652  7.45    False   \n",
      "\n",
      "           scale  n_bad_k  \n",
      "Probit  deviance        0  \n",
      "Logit   deviance        0  \n",
      "\n",
      " BEST MODEL: Probit\n",
      "\n",
      " STACKING WEIGHTS:\n",
      "  Probit: 0.713\n",
      "  Logit: 0.287\n",
      "\n",
      " BAYESIAN MODEL AVERAGING WEIGHTS:\n",
      "  Logit: 0.500\n",
      "  Probit: 0.500\n",
      "\n",
      " CONVERGENCE DIAGNOSTICS:\n",
      "  Logit:  CONVERGED\n",
      "    R-hat max: 1.003\n",
      "    ESS min: 2759\n",
      "  Probit:  CONVERGED\n",
      "    R-hat max: 1.002\n",
      "    ESS min: 2860\n",
      "\n",
      " INFLUENCE DIAGNOSTICS:\n",
      "  Logit:\n",
      "    Influential obs (k > 0.7): 0\n",
      "    Max k: 0.021\n",
      "    Mean k: -0.063\n",
      "  Probit:\n",
      "    Influential obs (k > 0.7): 0\n",
      "    Max k: 0.032\n",
      "    Mean k: -0.062\n",
      "\n",
      " MODEL COMPLEXITY:\n",
      "  Logit: 2 parameters\n",
      "  Probit: 2 parameters\n",
      "\n",
      " RECOMMENDATIONS:\n",
      "  • Consider using stacking weights for model averaging\n",
      "  • Bayesian Model Averaging weights available\n",
      "\n",
      "================================================================================\n",
      " Results displayed!\n"
     ]
    }
   ],
   "source": [
    "# Cell: Display Comprehensive Results\n",
    "print(\" Displaying Comprehensive Results...\")\n",
    "\n",
    "# Import the display function\n",
    "from bayes_ordinal.workflow.cross_validation import display_comparison_results\n",
    "\n",
    "# Display all results in a readable format\n",
    "display_comparison_results(advanced_results)\n",
    "\n",
    "print(\" Results displayed!\")"
   ]
  },
  {
   "cell_type": "code",
   "execution_count": 11,
   "id": "0baf82db",
   "metadata": {},
   "outputs": [
    {
     "name": "stdout",
     "output_type": "stream",
     "text": [
      " Creating Rich Model Comparison Plots...\n",
      " Log likelihood found for Logit\n",
      "  Location: root level\n",
      " LOO computed successfully: -18545.17 ± 37.83\n",
      " Log likelihood found for Probit\n",
      "  Location: root level\n",
      " LOO computed successfully: -18542.23 ± 38.10\n",
      " Advanced model comparison completed using ArviZ stacking\n"
     ]
    },
    {
     "data": {
      "image/png": "[encoded data removed]",
      "text/plain": [
       "<Figure size 1500x1000 with 4 Axes>"
      ]
     },
     "metadata": {},
     "output_type": "display_data"
    },
    {
     "name": "stdout",
     "output_type": "stream",
     "text": [
      "\n",
      "============================================================\n",
      "MCELREATH-STYLE MODEL COMPARISON SUMMARY\n",
      "============================================================\n",
      "Best Model: Probit\n",
      "Best Model IC Value: 37084.46\n",
      "\n",
      "Model Interpretations:\n",
      "  Probit: Best model - This model has the highest information criterion value\n",
      "  Logit: Moderate difference - Difference of 5.87 is between 2 and 6\n",
      "\n",
      "Recommendations:\n",
      "\n",
      "Next Steps:\n",
      "  → Perform posterior predictive checks on the selected model\n",
      "  → Examine parameter estimates and their uncertainty\n",
      "  → Consider sensitivity analysis for key parameters\n",
      "  → If multiple models are close, use model averaging\n",
      " Rich plots created!\n"
     ]
    }
   ],
   "source": [
    "# Cell: Create Rich Model Comparison Plots\n",
    "print(\" Creating Rich Model Comparison Plots...\")\n",
    "\n",
    "# Import the plotting functions\n",
    "from bayes_ordinal.workflow.cross_validation import (\n",
    "    compare_models_interpretation, \n",
    "    plot_model_comparison_interpretation\n",
    ")\n",
    "\n",
    "# Get interpretation results\n",
    "interpretation_results = compare_models_interpretation(\n",
    "    models=models,\n",
    "    idatas=idatas,\n",
    "    ic=\"loo\"\n",
    ")\n",
    "\n",
    "# Create the comprehensive plots\n",
    "plot_model_comparison_interpretation(interpretation_results)\n",
    "\n",
    "print(\" Rich plots created!\")"
   ]
  },
  {
   "cell_type": "code",
   "execution_count": null,
   "id": "1d1e2b81",
   "metadata": {},
   "outputs": [
    {
     "name": "stdout",
     "output_type": "stream",
     "text": [
      " Displaying Comprehensive Results...\n",
      "\n",
      "================================================================================\n",
      "COMPREHENSIVE MODEL COMPARISON RESULTS\n",
      "================================================================================\n",
      "\n",
      " BASIC COMPARISON:\n",
      "        rank   elpd_loo  p_loo  elpd_diff  weight      se   dse  warning  \\\n",
      "Probit     0  37084.464  9.063       0.00   0.713  76.198  0.00    False   \n",
      "Logit      1  37090.333  9.126       5.87   0.287  75.652  7.45    False   \n",
      "\n",
      "           scale  n_bad_k  \n",
      "Probit  deviance        0  \n",
      "Logit   deviance        0  \n",
      "\n",
      " BEST MODEL: Probit\n",
      "\n",
      " STACKING WEIGHTS:\n",
      "  Probit: 0.713\n",
      "  Logit: 0.287\n",
      "\n",
      " BAYESIAN MODEL AVERAGING WEIGHTS:\n",
      "  Logit: 0.500\n",
      "  Probit: 0.500\n",
      "\n",
      " CONVERGENCE DIAGNOSTICS:\n",
      "  Logit:  CONVERGED\n",
      "    R-hat max: 1.003\n",
      "    ESS min: 2759\n",
      "  Probit:  CONVERGED\n",
      "    R-hat max: 1.002\n",
      "    ESS min: 2860\n",
      "\n",
      " INFLUENCE DIAGNOSTICS:\n",
      "  Logit:\n",
      "    Influential obs (k > 0.7): 0\n",
      "    Max k: 0.021\n",
      "    Mean k: -0.063\n",
      "  Probit:\n",
      "    Influential obs (k > 0.7): 0\n",
      "    Max k: 0.032\n",
      "    Mean k: -0.062\n",
      "\n",
      " MODEL COMPLEXITY:\n",
      "  Logit: 2 parameters\n",
      "  Probit: 2 parameters\n",
      "\n",
      " RECOMMENDATIONS:\n",
      "  • Consider using stacking weights for model averaging\n",
      "  • Bayesian Model Averaging weights available\n",
      "\n",
      "================================================================================\n",
      " Results displayed!\n"
     ]
    }
   ],
   "source": [
    "# Cell: Display Comprehensive Results\n",
    "print(\" Displaying Comprehensive Results...\")\n",
    "\n",
    "# Import the display function\n",
    "from bayes_ordinal.workflow.cross_validation import display_comparison_results\n",
    "\n",
    "# Display all results in a readable format\n",
    "display_comparison_results(advanced_results)\n",
    "\n",
    "print(\" Results displayed!\")"
   ]
  }
 ],
 "metadata": {
  "kernelspec": {
   "display_name": "Python (bayes_ordinal_current)",
   "language": "python",
   "name": "bayes_ordinal_current"
  },
  "language_info": {
   "codemirror_mode": {
    "name": "ipython",
    "version": 3
   },
   "file_extension": ".py",
   "mimetype": "text/x-python",
   "name": "python",
   "nbconvert_exporter": "python",
   "pygments_lexer": "ipython3",
   "version": "3.11.13"
  }
 },
 "nbformat": 4,
 "nbformat_minor": 5
}