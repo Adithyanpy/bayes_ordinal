{
  "cells": [
    {
      "cell_type": "raw",
      "metadata": {
        "vscode": {
          "languageId": "raw"
        }
      },
      "source": [
        "# Fixed Models for Log-Likelihood Computation\n",
        "## Breaking the initvals vs log-likelihood loop\n",
        "\n",
        "This notebook demonstrates how to modify the models to enable both:\n",
        "1. Stable sampling (without -inf values)\n",
        "2. Log-likelihood computation for LOO/WAIC comparison\n"
      ]
    },
    {
      "cell_type": "code",
      "execution_count": null,
      "metadata": {},
      "outputs": [],
      "source": [
        "import numpy as np\n",
        "import pandas as pd\n",
        "import pymc as pm\n",
        "import arviz as az\n",
        "import pytensor.tensor as pt\n",
        "import sys\n",
        "sys.path.append('..')\n",
        "import bayes_ordinal as bo\n",
        "\n",
        "# Load data first\n",
        "data = pd.read_csv(\"../Dataset/Trolley.csv\", sep=';')\n",
        "data = data.dropna()\n",
        "feature_cols = ['action', 'intention', 'contact']\n",
        "X = data[feature_cols].values\n",
        "y = data['response'].values\n",
        "y_zero_based = y - 1\n",
        "\n",
        "print(f\"Data loaded: {data.shape[0]} observations, {len(np.unique(y))} categories\")\n"
      ]
    },
    {
      "cell_type": "raw",
      "metadata": {
        "vscode": {
          "languageId": "raw"
        }
      },
      "source": [
        "## Solution 1A: Fixed Partial Odds Model (No Default Initvals)\n"
      ]
    },
    {
      "cell_type": "code",
      "execution_count": null,
      "metadata": {},
      "outputs": [],
      "source": [
        "def partial_odds_model_fixed(\n",
        "    y, X, K=None, priors=None, model_name=\"partial_odds_fixed\"\n",
        "):\n",
        "    \"\"\"Partial odds model WITHOUT default initvals for log-likelihood computation.\"\"\"\n",
        "    \n",
        "    if K is None:\n",
        "        K = len(np.unique(y))\n",
        "    \n",
        "    priors = priors or {}\n",
        "    mu_g = priors.get(\"gamma_mu\", 0.0)\n",
        "    sigma_g = priors.get(\"gamma_sigma\", 0.5)  # More conservative\n",
        "    mu_b = priors.get(\"beta_mu\", 0.0)\n",
        "    sigma_b = priors.get(\"beta_sigma\", 0.5)  # More conservative\n",
        "\n",
        "    with pm.Model(name=model_name) as model:\n",
        "        # Use more conservative priors to avoid -inf\n",
        "        gamma = pm.Normal(\"gamma\", mu=mu_g, sigma=sigma_g, shape=K-1)\n",
        "        beta = pm.Normal(\"beta\", mu=mu_b, sigma=sigma_b, shape=X.shape[1])\n",
        "        \n",
        "        # Build η matrix\n",
        "        η = X @ beta\n",
        "        η = η[:, None] + gamma\n",
        "        \n",
        "        # Stick-breaking\n",
        "        θ = pm.math.sigmoid(η)\n",
        "        rem = pt.ones_like(θ[:, :1])\n",
        "        ps = []\n",
        "        for j in range(K-1):\n",
        "            pj = rem * θ[:, j : j+1]\n",
        "            ps.append(pj)\n",
        "            rem = rem * (1 - θ[:, j : j+1])\n",
        "        ps.append(rem)\n",
        "        p = pt.concatenate(ps, axis=1)\n",
        "        \n",
        "        # Likelihood\n",
        "        pm.Categorical(\"y_obs\", p=p, observed=y)\n",
        "        \n",
        "        # NO DEFAULT INITVALS! This enables log-likelihood computation\n",
        "    \n",
        "    return model\n",
        "\n",
        "# Test the fixed partial odds model\n",
        "priors = {\n",
        "    \"gamma_mu\": 0.0, \"gamma_sigma\": 0.5,\n",
        "    \"beta_mu\": 0.0, \"beta_sigma\": 0.5\n",
        "}\n",
        "\n",
        "partial_odds_fixed = partial_odds_model_fixed(y_zero_based, X, priors=priors)\n",
        "print(\"✓ Fixed partial odds model created\")\n"
      ]
    },
    {
      "cell_type": "code",
      "execution_count": null,
      "metadata": {},
      "outputs": [],
      "source": [
        "# Test sampling the fixed partial odds model\n",
        "print(\"Testing partial odds model sampling...\")\n",
        "with partial_odds_fixed:\n",
        "    idata_test = pm.sample(\n",
        "        draws=100, tune=100, chains=2,\n",
        "        init=\"jitter+adapt_diag\",\n",
        "        idata_kwargs={\"log_likelihood\": True},  # This should work now!\n",
        "        random_seed=42\n",
        "    )\n",
        "\n",
        "print(\"✓ Partial odds model samples successfully with log-likelihood!\")\n",
        "print(f\"Log-likelihood shape: {idata_test.log_likelihood.y_obs.shape}\")\n",
        "\n",
        "# Check if we can compute LOO\n",
        "try:\n",
        "    loo_test = az.loo(idata_test)\n",
        "    print(f\"✓ LOO computation successful: {loo_test.elpd_loo:.2f}\")\n",
        "except Exception as e:\n",
        "    print(f\"LOO failed: {e}\")\n"
      ]
    }
  ],
  "metadata": {
    "language_info": {
      "name": "python"
    }
  },
  "nbformat": 4,
  "nbformat_minor": 2
}
