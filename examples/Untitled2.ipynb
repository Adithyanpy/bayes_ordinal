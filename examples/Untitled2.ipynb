{
 "cells": [
  {
   "cell_type": "code",
   "execution_count": 38,
   "id": "dc66823b-b665-4b4f-ae38-ff9b9fb2b7c9",
   "metadata": {},
   "outputs": [],
   "source": [
    "# make sure we're in the right env; in bash you'd do:\n",
    "#    conda activate pymc_clean   # or whichever env has arviz, sklearn, etc.\n",
    "# ----------------------------------------------------------------------------\n",
    "import numpy  as np\n",
    "import pandas as pd\n",
    "import pymc   as pm\n",
    "import arviz  as az\n",
    "import matplotlib.pyplot as plt\n",
    "\n",
    "# use one of the built-in arviz styles (not \"arviz-viz\", which no longer exists)\n",
    "az.style.use(\"arviz-darkgrid\")\n",
    "\n",
    "# scikit-learn only when we actually need it\n",
    "from sklearn.model_selection import KFold\n",
    "\n",
    "# make things reproducible\n",
    "np.random.seed(42)\n"
   ]
  },
  {
   "cell_type": "code",
   "execution_count": 40,
   "id": "11a70dc1-c98f-40ed-a6a2-0130902e8135",
   "metadata": {},
   "outputs": [
    {
     "data": {
      "text/html": [
       "<div>\n",
       "<style scoped>\n",
       "    .dataframe tbody tr th:only-of-type {\n",
       "        vertical-align: middle;\n",
       "    }\n",
       "\n",
       "    .dataframe tbody tr th {\n",
       "        vertical-align: top;\n",
       "    }\n",
       "\n",
       "    .dataframe thead th {\n",
       "        text-align: right;\n",
       "    }\n",
       "</style>\n",
       "<table border=\"1\" class=\"dataframe\">\n",
       "  <thead>\n",
       "    <tr style=\"text-align: right;\">\n",
       "      <th></th>\n",
       "      <th>x1</th>\n",
       "      <th>x2</th>\n",
       "      <th>y</th>\n",
       "    </tr>\n",
       "  </thead>\n",
       "  <tbody>\n",
       "    <tr>\n",
       "      <th>0</th>\n",
       "      <td>0.496714</td>\n",
       "      <td>-0.138264</td>\n",
       "      <td>2</td>\n",
       "    </tr>\n",
       "    <tr>\n",
       "      <th>1</th>\n",
       "      <td>0.647689</td>\n",
       "      <td>1.523030</td>\n",
       "      <td>1</td>\n",
       "    </tr>\n",
       "    <tr>\n",
       "      <th>2</th>\n",
       "      <td>-0.234153</td>\n",
       "      <td>-0.234137</td>\n",
       "      <td>1</td>\n",
       "    </tr>\n",
       "    <tr>\n",
       "      <th>3</th>\n",
       "      <td>1.579213</td>\n",
       "      <td>0.767435</td>\n",
       "      <td>2</td>\n",
       "    </tr>\n",
       "    <tr>\n",
       "      <th>4</th>\n",
       "      <td>-0.469474</td>\n",
       "      <td>0.542560</td>\n",
       "      <td>0</td>\n",
       "    </tr>\n",
       "  </tbody>\n",
       "</table>\n",
       "</div>"
      ],
      "text/plain": [
       "         x1        x2  y\n",
       "0  0.496714 -0.138264  2\n",
       "1  0.647689  1.523030  1\n",
       "2 -0.234153 -0.234137  1\n",
       "3  1.579213  0.767435  2\n",
       "4 -0.469474  0.542560  0"
      ]
     },
     "execution_count": 40,
     "metadata": {},
     "output_type": "execute_result"
    }
   ],
   "source": [
    "# 1) simulate 100 rows of 2 predictors\n",
    "n = 100\n",
    "X = np.random.normal(size=(n, 2))\n",
    "\n",
    "# 2) true parameters\n",
    "true_beta = np.array([1.0, -0.5])\n",
    "\n",
    "# 3) linear predictor\n",
    "eta = X @ true_beta\n",
    "\n",
    "# 4) cut‐points for three categories\n",
    "cutpoints = [-0.5, 0.5]\n",
    "\n",
    "# 5) generate an ordinal outcome\n",
    "y = np.digitize(eta, cutpoints)  # values in {0,1,2}\n",
    "\n",
    "# wrap in a DataFrame for convenience\n",
    "df = pd.DataFrame(X, columns=[\"x1\", \"x2\"])\n",
    "df[\"y\"] = y\n",
    "\n",
    "df.head()\n"
   ]
  },
  {
   "cell_type": "code",
   "execution_count": 48,
   "id": "f59f9302-b254-4b08-a621-376dd18240e4",
   "metadata": {},
   "outputs": [
    {
     "name": "stderr",
     "output_type": "stream",
     "text": [
      "Sampling: [cut, y_pp, β0, β1]\n"
     ]
    },
    {
     "ename": "KeyError",
     "evalue": "'y_obs'",
     "output_type": "error",
     "traceback": [
      "\u001b[31m---------------------------------------------------------------------------\u001b[39m",
      "\u001b[31mKeyError\u001b[39m                                  Traceback (most recent call last)",
      "\u001b[36mCell\u001b[39m\u001b[36m \u001b[39m\u001b[32mIn[48]\u001b[39m\u001b[32m, line 19\u001b[39m\n\u001b[32m     16\u001b[39m     prior_pred = pm.sample_prior_predictive(\u001b[32m200\u001b[39m)\n\u001b[32m     18\u001b[39m \u001b[38;5;66;03m# flatten the 200×n_prior array into one long vector\u001b[39;00m\n\u001b[32m---> \u001b[39m\u001b[32m19\u001b[39m prior_y = \u001b[43mprior_pred\u001b[49m\u001b[43m[\u001b[49m\u001b[33;43m\"\u001b[39;49m\u001b[33;43my_obs\u001b[39;49m\u001b[33;43m\"\u001b[39;49m\u001b[43m]\u001b[49m.ravel()\n\u001b[32m     21\u001b[39m az.plot_dist_comparison(\n\u001b[32m     22\u001b[39m     data=prior_y,           \u001b[38;5;66;03m# use \"y_obs\" not \"y_pp\"\u001b[39;00m\n\u001b[32m     23\u001b[39m     kind=\u001b[33m\"\u001b[39m\u001b[33mhist\u001b[39m\u001b[33m\"\u001b[39m,\n\u001b[32m   (...)\u001b[39m\u001b[32m     29\u001b[39m                              label=\u001b[33m\"\u001b[39m\u001b[33mnone (prior only)\u001b[39m\u001b[33m\"\u001b[39m),\n\u001b[32m     30\u001b[39m )\n\u001b[32m     31\u001b[39m plt.legend();\n",
      "\u001b[36mFile \u001b[39m\u001b[32m~/Documents/MScProject/bayes_ordinal/.venv/lib/python3.11/site-packages/arviz/data/inference_data.py:259\u001b[39m, in \u001b[36mInferenceData.__getitem__\u001b[39m\u001b[34m(self, key)\u001b[39m\n\u001b[32m    257\u001b[39m \u001b[38;5;250m\u001b[39m\u001b[33;03m\"\"\"Get item by key.\"\"\"\u001b[39;00m\n\u001b[32m    258\u001b[39m \u001b[38;5;28;01mif\u001b[39;00m key \u001b[38;5;129;01mnot\u001b[39;00m \u001b[38;5;129;01min\u001b[39;00m \u001b[38;5;28mself\u001b[39m._groups_all:\n\u001b[32m--> \u001b[39m\u001b[32m259\u001b[39m     \u001b[38;5;28;01mraise\u001b[39;00m \u001b[38;5;167;01mKeyError\u001b[39;00m(key)\n\u001b[32m    260\u001b[39m \u001b[38;5;28;01mreturn\u001b[39;00m \u001b[38;5;28mgetattr\u001b[39m(\u001b[38;5;28mself\u001b[39m, key)\n",
      "\u001b[31mKeyError\u001b[39m: 'y_obs'"
     ]
    }
   ],
   "source": [
    "with pm.Model() as prior_model:\n",
    "    β0 = pm.Normal(\"β0\", 0, 2)\n",
    "    β1 = pm.Normal(\"β1\", 0, 2, shape=2)\n",
    "    cut = pm.Normal(\"cut\", 0, 5, shape=2)\n",
    "    \n",
    "    η = β0 + pm.math.dot(df[[\"x1\",\"x2\"]].values, β1)\n",
    "    θ = pm.math.sigmoid(cut - η[:, None])\n",
    "    # convert to 3‐category probs\n",
    "    p0 = θ[:, 0]\n",
    "    p1 = θ[:, 1] - θ[:, 0]\n",
    "    p2 = 1 - θ[:, 1]\n",
    "    p  = pm.math.stack([p0, p1, p2], axis=1)\n",
    "    \n",
    "    y_pp = pm.Categorical(\"y_pp\", p=p, shape=n)\n",
    "\n",
    "    prior_pred = pm.sample_prior_predictive(200)\n",
    "\n",
    "# flatten the 200×n_prior array into one long vector\n",
    "prior_y = prior_pred[\"y_obs\"].ravel()\n",
    "\n",
    "az.plot_dist_comparison(\n",
    "    data=prior_y,           # use \"y_obs\" not \"y_pp\"\n",
    "    kind=\"hist\",\n",
    "    prior_kwargs     = dict(alpha=0.2, label=\"prior draws\"),\n",
    "    posterior_kwargs = dict(alpha=0.2),\n",
    "    observed_kwargs  = dict(color=\"k\",\n",
    "                             linestyle=\"--\",\n",
    "                             linewidth=2,\n",
    "                             label=\"none (prior only)\"),\n",
    ")\n",
    "plt.legend();\n"
   ]
  },
  {
   "cell_type": "code",
   "execution_count": 14,
   "id": "e790b493-ddf0-4967-81d9-4ee9a30f5264",
   "metadata": {},
   "outputs": [
    {
     "data": {
      "image/png": "[encoded data removed]",
      "text/plain": [
       "<Figure size 640x480 with 1 Axes>"
      ]
     },
     "metadata": {},
     "output_type": "display_data"
    }
   ],
   "source": [
    "prior_idata = results[\"prior_idata\"][\"cum\"]\n",
    "# flatten and plot\n",
    "y_pp = prior_idata.prior_predictive[\"y_obs\"].values.flatten()\n",
    "ax = az.plot_dist(y_pp, kind=\"hist\", label=\"prior predictive\")\n",
    "ax.set(title=\"Prior predictive of y_obs\", xlabel=\"category\")\n",
    "plt.show()"
   ]
  },
  {
   "cell_type": "code",
   "execution_count": 28,
   "id": "b4cc93b7-15f3-46a3-b6df-07323ba997a3",
   "metadata": {},
   "outputs": [
    {
     "data": {
      "image/png": "[encoded data removed]",
      "text/plain": [
       "<Figure size 640x480 with 1 Axes>"
      ]
     },
     "metadata": {},
     "output_type": "display_data"
    }
   ],
   "source": [
    "ppc_idata = results[\"ppc\"]\n",
    "\n",
    "# 1) built‐in PPC\n",
    "az.plot_ppc(ppc_idata, var_names=[\"y_obs\"], num_pp_samples=100)\n",
    "plt.show()\n"
   ]
  },
  {
   "cell_type": "code",
   "execution_count": 34,
   "id": "81b21dfc-aaab-4fbb-9928-c831651382e5",
   "metadata": {},
   "outputs": [
    {
     "ename": "TypeError",
     "evalue": "plot_dist_comparison() got an unexpected keyword argument 'predictions'",
     "output_type": "error",
     "traceback": [
      "\u001b[31m---------------------------------------------------------------------------\u001b[39m",
      "\u001b[31mTypeError\u001b[39m                                 Traceback (most recent call last)",
      "\u001b[36mCell\u001b[39m\u001b[36m \u001b[39m\u001b[32mIn[34]\u001b[39m\u001b[32m, line 12\u001b[39m\n\u001b[32m      8\u001b[39m \u001b[38;5;66;03m# now collapse the 100 predicted values per sample into one vector of predictions\u001b[39;00m\n\u001b[32m      9\u001b[39m \u001b[38;5;66;03m# by concatenating over the 0th axis\u001b[39;00m\n\u001b[32m     10\u001b[39m pps = pps.flatten()  \u001b[38;5;66;03m# shape (n_chains*n_draws*100,)\u001b[39;00m\n\u001b[32m---> \u001b[39m\u001b[32m12\u001b[39m \u001b[43maz\u001b[49m\u001b[43m.\u001b[49m\u001b[43mplot_dist_comparison\u001b[49m\u001b[43m(\u001b[49m\n\u001b[32m     13\u001b[39m \u001b[43m    \u001b[49m\u001b[43mobs\u001b[49m\u001b[43m,\u001b[49m\n\u001b[32m     14\u001b[39m \u001b[43m    \u001b[49m\u001b[33;43m\"\u001b[39;49m\u001b[33;43mhist\u001b[39;49m\u001b[33;43m\"\u001b[39;49m\u001b[43m,\u001b[49m\u001b[43m           \u001b[49m\u001b[38;5;66;43;03m# <— this is the kind\u001b[39;49;00m\n\u001b[32m     15\u001b[39m \u001b[43m    \u001b[49m\u001b[43mpredictions\u001b[49m\u001b[43m=\u001b[49m\u001b[43mpps\u001b[49m\u001b[43m,\u001b[49m\u001b[43m  \u001b[49m\u001b[38;5;66;43;03m# <— posterior-predictive samples\u001b[39;49;00m\n\u001b[32m     16\u001b[39m \u001b[43m    \u001b[49m\u001b[43mxlabel\u001b[49m\u001b[43m=\u001b[49m\u001b[33;43m\"\u001b[39;49m\u001b[33;43my_obs\u001b[39;49m\u001b[33;43m\"\u001b[39;49m\n\u001b[32m     17\u001b[39m \u001b[43m)\u001b[49m\n\u001b[32m     18\u001b[39m plt.show()\n",
      "\u001b[31mTypeError\u001b[39m: plot_dist_comparison() got an unexpected keyword argument 'predictions'"
     ]
    }
   ],
   "source": [
    "# grab the obs and the draws\n",
    "obs = ppc_idata.observed_data[\"y_obs\"].values         # shape (100,)\n",
    "pps = ppc_idata.posterior_predictive[\"y_obs\"].values  # shape (n_chains, n_draws, 100)\n",
    "\n",
    "# flatten chains & draws into one long sample axis\n",
    "pps = pps.reshape(-1, pps.shape[-1])  # now shape (n_chains*n_draws, 100)\n",
    "\n",
    "# now collapse the 100 predicted values per sample into one vector of predictions\n",
    "# by concatenating over the 0th axis\n",
    "pps = pps.flatten()  # shape (n_chains*n_draws*100,)\n",
    "\n",
    "az.plot_dist_comparison(\n",
    "    obs,\n",
    "    \"hist\",           # <— this is the kind\n",
    "    predictions=pps,  # <— posterior-predictive samples\n",
    "    xlabel=\"y_obs\"\n",
    ")\n",
    "plt.show()\n"
   ]
  },
  {
   "cell_type": "code",
   "execution_count": 36,
   "id": "ef167625-e3f4-4741-a173-bee7e7344c3b",
   "metadata": {},
   "outputs": [
    {
     "name": "stdout",
     "output_type": "stream",
     "text": [
      "(data, kind='latent', figsize=None, textsize=None, var_names=None, coords=None, combine_dims=None, transform=None, legend=True, labeller=None, ax=None, prior_kwargs=None, posterior_kwargs=None, observed_kwargs=None, backend=None, backend_kwargs=None, show=None)\n"
     ]
    }
   ],
   "source": [
    "import arviz as az\n",
    "from inspect import signature\n",
    "print(signature(az.plot_dist_comparison))"
   ]
  },
  {
   "cell_type": "code",
   "execution_count": null,
   "id": "f2b938bf-d687-4288-aaee-f65f5497f514",
   "metadata": {},
   "outputs": [],
   "source": []
  }
 ],
 "metadata": {
  "kernelspec": {
   "display_name": "Python (bayes_ordinal/.venv)",
   "language": "python",
   "name": "bayes_ordinal_venv"
  },
  "language_info": {
   "codemirror_mode": {
    "name": "ipython",
    "version": 3
   },
   "file_extension": ".py",
   "mimetype": "text/x-python",
   "name": "python",
   "nbconvert_exporter": "python",
   "pygments_lexer": "ipython3",
   "version": "3.11.13"
  }
 },
 "nbformat": 4,
 "nbformat_minor": 5
}
